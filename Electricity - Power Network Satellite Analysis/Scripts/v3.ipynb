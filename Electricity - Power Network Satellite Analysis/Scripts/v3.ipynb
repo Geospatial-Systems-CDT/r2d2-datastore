{
 "cells": [
  {
   "cell_type": "code",
   "execution_count": null,
   "metadata": {},
   "outputs": [],
   "source": [
    "# Analysis to calculate the volume of incursions into each polyline of the power network to aid prioritisation of power network risk migitation decision making\n",
    "\n",
    "# Data is output in the form of a geojson file of power network with addditional properites for "
   ]
  },
  {
   "cell_type": "code",
   "execution_count": 216,
   "metadata": {},
   "outputs": [],
   "source": [
    "from PIL import Image\n",
    "import numpy as np\n",
    "import matplotlib.pyplot as plt\n",
    "import matplotlib.image as mpimg\n",
    "\n",
    "import pandas as pd\n",
    "import geopandas as gpd\n",
    "import rasterio\n",
    "import osmnx as ox\n",
    "import json\n",
    "import geojson\n",
    "from math import ceil, floor\n",
    "import cv2\n",
    "import random\n",
    "\n",
    "from shapely.geometry import LineString, CAP_STYLE\n",
    "from shapely.ops import transform\n",
    "from shapely import wkt\n",
    "import shapely.geometry as gm\n",
    "\n",
    "import skimage\n",
    "import io\n",
    "\n",
    "\n",
    "from skimage import measure, morphology\n",
    "from rasterio import features as raster_features\n",
    "from rasterio.plot import show\n",
    "from rasterio.enums import MergeAlg\n",
    "\n",
    "from bng_latlon import OSGB36toWGS84\n",
    "from geojson import Polygon, Feature, FeatureCollection"
   ]
  },
  {
   "cell_type": "code",
   "execution_count": 217,
   "metadata": {},
   "outputs": [],
   "source": [
    "# Set analysis specific variables\n",
    "min_height = 5.2\n",
    "width = 5\n",
    "corridorHeight = 10\n",
    "\n",
    "# Set input DSM and DTM file names and locations\n",
    "DTM = 'DTM.tif'\n",
    "DSM = 'DSM.tif'"
   ]
  },
  {
   "cell_type": "code",
   "execution_count": 218,
   "metadata": {},
   "outputs": [],
   "source": [
    "# Define the certain power network data and configurable variables\n",
    "voltages = {\n",
    "    'ESO': {\n",
    "        'Voltages': ['275kV', '400kV'],\n",
    "        'Company': 'National Grid',\n",
    "        'Priority': 0.7\n",
    "    },\n",
    "    'DNO': {\n",
    "        'Voltages': ['132kV','33kV', '11kV'],\n",
    "        'Company': 'Northern Power',\n",
    "        'Priority': 0.5\n",
    "    }\n",
    "}\n",
    "\n",
    "#https://www.hse.gov.uk/pubns/ais8.pdf"
   ]
  },
  {
   "cell_type": "code",
   "execution_count": 219,
   "metadata": {},
   "outputs": [],
   "source": [
    "# Import raster to get bounds of analysis\n",
    "raster = rasterio.open(DTM)\n",
    "\n",
    "## bbox - top left, top right, bottom left, bottom right\n",
    "bbox = [[raster.bounds.left, raster.bounds.top], [raster.bounds.right, raster.bounds.top], \n",
    "        [raster.bounds.left, raster.bounds.bottom], [raster.bounds.right, raster.bounds.bottom]]\n",
    "\n",
    "bbox_wsg84 = []\n",
    "for x in bbox:\n",
    "    x, y = OSGB36toWGS84(x[0], x[1])\n",
    "    bbox_wsg84.append([x, y])\n",
    "\n",
    "left = bbox_wsg84[2][1]\n",
    "right = bbox_wsg84[1][1]\n",
    "bottom = bbox_wsg84[3][0]\n",
    "top = bbox_wsg84[0][0]"
   ]
  },
  {
   "cell_type": "code",
   "execution_count": 221,
   "metadata": {},
   "outputs": [],
   "source": [
    "## Load in network geojson files of various sources and combine\n",
    "\n",
    "with open('DNO-Network.geojson') as f:\n",
    "    dno = geojson.load(f)\n",
    "with open('ESO-Cabel.geojson') as f:\n",
    "    eso_cable = geojson.load(f)\n",
    "with open('ESO-OHL.geojson') as f:\n",
    "    eso_ohl = geojson.load(f)\n",
    "\n",
    "# Set properties and variables for each of the different network types\n",
    "for x in dno['features']:\n",
    "    x['properties']['network'] = 'DNO'\n",
    "    x['properties']['stroke'] = '#40bf40'\n",
    "    x['properties']['stroke-opacity'] = 0.5\n",
    "    x['properties']['priority'] = voltages[x['properties']['network']]['Priority']\n",
    "\n",
    "for x in eso_cable['features']:\n",
    "    x['properties']['network'] = 'ESO'\n",
    "    x['properties']['stroke'] = '#6c936c'\n",
    "    x['properties']['stroke-opacity'] = 0.3\n",
    "    x['properties']['priority'] = 0.1\n",
    "\n",
    "for x in eso_ohl['features']:\n",
    "    x['properties']['network'] = 'ESO'\n",
    "    x['properties']['stroke'] = '#00ff00'\n",
    "    x['properties']['stroke-opacity'] = 0.7\n",
    "    x['properties']['priority'] = voltages[x['properties']['network']]['Priority']\n",
    "\n",
    "fs = dno['features'] + eso_cable['features'] + eso_ohl['features']\n",
    "\n",
    "feature_collection = FeatureCollection(fs)\n",
    "with open('NE-power-network.geojson', 'w') as f:\n",
    "   json.dump(feature_collection, f)\n",
    "\n",
    "## read saved file back in\n",
    "edges = gpd.read_file('NE-power-network.geojson', driver='GeoJSON')\n",
    "\n",
    "# crop network to raster image size\n",
    "edges = edges.cx[left:right, bottom:top]\n",
    "edges.to_file('NE-power-network-trimmed.geojson', driver='GeoJSON')\n"
   ]
  },
  {
   "cell_type": "code",
   "execution_count": 223,
   "metadata": {},
   "outputs": [],
   "source": [
    "# convert edge crs to align with raster crs, in this case osgb36\n",
    "edges_osgb = edges.to_crs(raster.crs)\n",
    "buffer_network = [(shapes.buffer(width, cap_style=CAP_STYLE.round)) for shapes in edges_osgb.geometry]\n"
   ]
  },
  {
   "cell_type": "code",
   "execution_count": 224,
   "metadata": {},
   "outputs": [],
   "source": [
    "#Import images in float64 via ski-learn image and calculate CHM\n",
    "lidar_dtm = skimage.img_as_float(skimage.io.imread(DTM))\n",
    "lidar_dsm = skimage.img_as_float(skimage.io.imread(DSM))\n",
    "CHM = (lidar_dsm - lidar_dtm)\n",
    "CHM_threshold = np.multiply(CHM,100)"
   ]
  },
  {
   "cell_type": "code",
   "execution_count": 228,
   "metadata": {},
   "outputs": [],
   "source": [
    "#Calculate incursions above min hight\n",
    "trigger = (CHM_threshold > min_height)\n",
    "CHM_threshold[trigger == False] = 0\n"
   ]
  },
  {
   "cell_type": "code",
   "execution_count": 229,
   "metadata": {},
   "outputs": [
    {
     "name": "stdout",
     "output_type": "stream",
     "text": [
      "18 20.7843137254902 1.0973510416186825e-05 0.0\n",
      "20 36.47058823529413 1.941101544520839e-05 0.0\n",
      "37 10.98039215686275 1.2285019225383275e-06 0.0\n",
      "62 5.882352941176472 8.994356120871854e-07 0.0\n",
      "72 5.490196078431375 1.0133270865124783e-06 0.0\n",
      "90 1309.8039215686276 0.6956715414708884 69.57\n",
      "93 665.4901960784315 0.032215575292666304 3.22\n",
      "98 1532.549019607843 0.8296041145779762 82.96\n",
      "101 1258.8235294117649 0.25281406721407756 25.28\n",
      "105 665.4901960784315 0.032215575292666325 3.22\n",
      "109 1532.549019607843 0.829604114577976 82.96\n",
      "110 1309.8039215686276 1.2201660804628731 122.02\n",
      "114 1258.8235294117649 0.758004470475452 75.8\n",
      "115 5.490196078431375 9.186518524889565e-07 0.0\n",
      "116 5.490196078431375 9.186518524889662e-07 0.0\n",
      "133 5.882352941176472 8.994356120871854e-07 0.0\n",
      "265 11.764705882352942 2.3004289554086592e-06 0.0\n",
      "270 143.921568627451 0.00011474490996492155 0.01\n",
      "271 1631.3725490196075 0.0015662341334095533 0.16\n"
     ]
    }
   ],
   "source": [
    "# Iterate through each linestring to find volume of incursions and clip raster approrpately to calculate\n",
    "\n",
    "for ind, x in enumerate(buffer_network):\n",
    "    edgeLength = edges_osgb.loc[edges_osgb.index[ind], 'Length']\n",
    "    edgeVolume = edgeLength * width * corridorHeight\n",
    "    buffer_shape = (ceil(x.bounds[2] - x.bounds[0]), ceil(x.bounds[3] - x.bounds[1]))\n",
    "\n",
    "    data = [x]\n",
    "    rasterized = raster_features.rasterize(data,\n",
    "                                out_shape = raster.shape,\n",
    "                                fill = 0,\n",
    "                                out = None,\n",
    "                                transform = raster.transform,\n",
    "                                all_touched = False,\n",
    "                                default_value = 1,\n",
    "                                dtype = None)\n",
    "\n",
    "\n",
    "    raster_bounds = (x.bounds[0] - raster.bounds[0]), (raster.bounds[3] - x.bounds[3]), (x.bounds[0] - raster.bounds[0] + (x.bounds[2] - x.bounds[0])), (raster.bounds[3] - x.bounds[3] + (x.bounds[3] - x.bounds[1]))\n",
    "    raster_bounds_clip = floor(x.bounds[0] - raster.bounds[0]), floor(raster.bounds[3] - x.bounds[3]), ceil(x.bounds[0] - raster.bounds[0] + (x.bounds[2] - x.bounds[0])), ceil(raster.bounds[3] - x.bounds[3] + (x.bounds[3] - x.bounds[1]))\n",
    "\n",
    "    rasterized_mask = rasterized > 0\n",
    "\n",
    "    rasterized_clip = rasterized[raster_bounds_clip[1]:raster_bounds_clip[3], raster_bounds_clip[0]:raster_bounds_clip[2]]\n",
    "    rasterized_mask = rasterized_clip > 0\n",
    "    CHM_clip = CHM_threshold[raster_bounds_clip[1]:raster_bounds_clip[3], raster_bounds_clip[0]:raster_bounds_clip[2]]\n",
    "    CHM_clip[rasterized_mask == False] = 0\n",
    "    total_over = np.sum(CHM_clip)\n",
    "    if total_over > 0 and x.area > 0:\n",
    "        volume_over = np.subtract(CHM_clip,[min_height], where=CHM_clip>min_height)\n",
    "        percent_covered = (np.sum(volume_over))/(x.area*(min_height*2))\n",
    "        print(ind, total_over, percent_covered, round(percent_covered*100,2))\n",
    "\n",
    "        edges_osgb.at[edges_osgb.index[ind], 'AtRisk'] = True\n",
    "        edges_osgb.at[edges_osgb.index[ind], 'PercentExposed'] = f\"{round(percent_covered*100,2)}%\"\n",
    "        edges_osgb.at[edges_osgb.index[ind], 'stroke'] = '#ff0000'\n",
    "    else:\n",
    "        edges_osgb.at[edges_osgb.index[ind], 'AtRisk'] = False\n",
    "        edges_osgb.at[edges_osgb.index[ind], 'PercentExposed'] = f\"0%\"\n",
    "        \n",
    "\n",
    "        \n"
   ]
  },
  {
   "cell_type": "code",
   "execution_count": 231,
   "metadata": {},
   "outputs": [],
   "source": [
    "# Set output crs of linestrings and export for Geojson \n",
    "edges_output = edges_osgb.to_crs(edges.crs)\n",
    "edges_output.to_file('NE-power-network-risk.geojson', driver='GeoJSON')"
   ]
  }
 ],
 "metadata": {
  "kernelspec": {
   "display_name": "Python 3",
   "language": "python",
   "name": "python3"
  },
  "language_info": {
   "codemirror_mode": {
    "name": "ipython",
    "version": 3
   },
   "file_extension": ".py",
   "mimetype": "text/x-python",
   "name": "python",
   "nbconvert_exporter": "python",
   "pygments_lexer": "ipython3",
   "version": "3.10.10"
  },
  "orig_nbformat": 4
 },
 "nbformat": 4,
 "nbformat_minor": 2
}
