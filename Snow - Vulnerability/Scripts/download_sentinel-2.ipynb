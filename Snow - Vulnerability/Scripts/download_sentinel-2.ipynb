{
 "cells": [
  {
   "cell_type": "code",
   "execution_count": 1,
   "metadata": {},
   "outputs": [],
   "source": [
    "import ee\n",
    "import geojson"
   ]
  },
  {
   "cell_type": "code",
   "execution_count": 2,
   "metadata": {},
   "outputs": [],
   "source": [
    "#ee.Authenticate() # Do this just once\n",
    "ee.Initialize()"
   ]
  },
  {
   "cell_type": "code",
   "execution_count": 3,
   "metadata": {},
   "outputs": [],
   "source": [
    "## Select collection\n",
    "loc = ee.Geometry.Point(-1.9, 55)\n",
    "collection = (\n",
    "    ee.ImageCollection('COPERNICUS/S2_SR_HARMONIZED')\n",
    "    .filterBounds(loc)\n",
    "    .filterDate('2021-02-13', '2021-02-14')\n",
    ")\n",
    "bands = collection.select(['B3', 'B11'])"
   ]
  },
  {
   "cell_type": "code",
   "execution_count": 4,
   "metadata": {},
   "outputs": [
    {
     "name": "stdout",
     "output_type": "stream",
     "text": [
      "['20210213T112151_20210213T112445_T30UWF', '20210213T112151_20210213T112445_T30UWG']\n"
     ]
    }
   ],
   "source": [
    "## Show available data\n",
    "print(bands.aggregate_array('system:index').getInfo())"
   ]
  },
  {
   "cell_type": "code",
   "execution_count": 9,
   "metadata": {},
   "outputs": [],
   "source": [
    "## Polygon - boundary\n",
    "with open(\"C:/Users/frans/Documents/NCL/R2D2/data/north_east_4326.geojson\") as json_file:\n",
    "   gjson = geojson.load(json_file)\n",
    "\n",
    "## get gjson features\n",
    "features = gjson['features']\n",
    "\n",
    "## make Earth Engine FeatureCollection of features\n",
    "fc = ee.FeatureCollection(features)"
   ]
  },
  {
   "cell_type": "code",
   "execution_count": 11,
   "metadata": {},
   "outputs": [],
   "source": [
    "## clip image func\n",
    "def clip_img(var):\n",
    "    clip = var.clip(fc)  # fc is a feature collection\n",
    "    return clip"
   ]
  },
  {
   "cell_type": "code",
   "execution_count": 12,
   "metadata": {},
   "outputs": [],
   "source": [
    "## clip every image in collection\n",
    "clip = bands.map(clip_img)\n",
    "\n",
    "nimg = clip.toList(clip.size().getInfo()).size().getInfo()\n",
    "area = fc.geometry()  \n",
    "\n",
    "## export result                                 \n",
    "for i in range(nimg):\n",
    "    img = ee.Image(clip.toList(nimg).get(i))\n",
    "    date = img.date().format('yyyy_MM_dd_HH').getInfo()\n",
    "\n",
    "    task = ee.batch.Export.image.toDrive(img.toFloat(), \n",
    "                                          description=date,\n",
    "                                          folder='gee',\n",
    "                                          fileNamePrefix= date,\n",
    "                                          region = area,\n",
    "                                          # fileFormat = 'TFRecord',\n",
    "                                          maxPixels = 1.0E13)\n",
    "    task.start()"
   ]
  }
 ],
 "metadata": {
  "kernelspec": {
   "display_name": "Python 3",
   "language": "python",
   "name": "python3"
  },
  "language_info": {
   "codemirror_mode": {
    "name": "ipython",
    "version": 3
   },
   "file_extension": ".py",
   "mimetype": "text/x-python",
   "name": "python",
   "nbconvert_exporter": "python",
   "pygments_lexer": "ipython3",
   "version": "3.11.2"
  },
  "orig_nbformat": 4
 },
 "nbformat": 4,
 "nbformat_minor": 2
}
