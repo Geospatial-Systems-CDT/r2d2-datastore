{
 "cells": [
  {
   "cell_type": "code",
   "execution_count": 1,
   "metadata": {},
   "outputs": [],
   "source": [
    "import ee\n",
    "import geojson"
   ]
  },
  {
   "cell_type": "code",
   "execution_count": 2,
   "metadata": {},
   "outputs": [],
   "source": [
    "#ee.Authenticate() # Do this just once\n",
    "ee.Initialize()"
   ]
  },
  {
   "cell_type": "code",
   "execution_count": 3,
   "metadata": {},
   "outputs": [],
   "source": [
    "## Select collection\n",
    "loc = ee.Geometry.Point(-1.9, 55)\n",
    "collection = (\n",
    "    ee.ImageCollection('ECMWF/ERA5_LAND/HOURLY')\n",
    "    .filterBounds(loc)\n",
    "    #.filterDate('2018-02-28', '2018-03-02')  # the beast from the east\n",
    "    .filterDate('2021-02-11', '2021-02-13')  # storm Darcy\n",
    "    #.filterDate('2010-12-03', '2010-12-04')  # \n",
    ")\n"
   ]
  },
  {
   "cell_type": "code",
   "execution_count": 4,
   "metadata": {},
   "outputs": [],
   "source": [
    "## temp\n",
    "surface_temp = collection.select('skin_temperature')\n",
    "## lake ice\n",
    "lake_ice_depth = collection.select('lake_ice_depth')\n",
    "## snow\n",
    "snow_cover = collection.select('snow_cover')\n",
    "snow_density = collection.select('snow_density')\n",
    "snow_depth = collection.select('snow_depth')\n",
    "snowfall = collection.select('snowfall')\n",
    "snowmelt = collection.select('snowmelt')\n",
    "## liquid and frozen water\n",
    "total_precipitation = collection.select('total_precipitation')\n",
    "\n",
    "weather = surface_temp"
   ]
  },
  {
   "cell_type": "code",
   "execution_count": 5,
   "metadata": {},
   "outputs": [
    {
     "name": "stdout",
     "output_type": "stream",
     "text": [
      "['20210211T00', '20210211T01', '20210211T02', '20210211T03', '20210211T04', '20210211T05', '20210211T06', '20210211T07', '20210211T08', '20210211T09', '20210211T10', '20210211T11', '20210211T12', '20210211T13', '20210211T14', '20210211T15', '20210211T16', '20210211T17', '20210211T18', '20210211T19', '20210211T20', '20210211T21', '20210211T22', '20210211T23', '20210212T00', '20210212T01', '20210212T02', '20210212T03', '20210212T04', '20210212T05', '20210212T06', '20210212T07', '20210212T08', '20210212T09', '20210212T10', '20210212T11', '20210212T12', '20210212T13', '20210212T14', '20210212T15', '20210212T16', '20210212T17', '20210212T18', '20210212T19', '20210212T20', '20210212T21', '20210212T22', '20210212T23']\n"
     ]
    }
   ],
   "source": [
    "## Show available data\n",
    "print(weather.aggregate_array('system:index').getInfo())"
   ]
  },
  {
   "cell_type": "code",
   "execution_count": 6,
   "metadata": {},
   "outputs": [],
   "source": [
    "## Polygon - boundary\n",
    "with open(\"C:/Users/frans/Documents/NCL/R2D2/data/north_east_4326.geojson\") as json_file:\n",
    "   gjson = geojson.load(json_file)"
   ]
  },
  {
   "cell_type": "code",
   "execution_count": 7,
   "metadata": {},
   "outputs": [],
   "source": [
    "## get gjson features\n",
    "features = gjson['features']\n",
    "\n",
    "## make Earth Engine FeatureCollection of features\n",
    "fc = ee.FeatureCollection(features)"
   ]
  },
  {
   "cell_type": "code",
   "execution_count": 8,
   "metadata": {},
   "outputs": [],
   "source": [
    "## clip image func\n",
    "def clip_img(var):\n",
    "    clip = var.clip(fc)  # fc is a feature collection\n",
    "    return clip"
   ]
  },
  {
   "cell_type": "code",
   "execution_count": 9,
   "metadata": {},
   "outputs": [],
   "source": [
    "## clip every image in collection\n",
    "clip_st = surface_temp.map(clip_img)\n",
    "clip_lid = lake_ice_depth.map(clip_img)\n",
    "clip_sc = snow_cover.map(clip_img)\n",
    "clip_sdt = snow_density.map(clip_img)\n",
    "clip_sdp = snow_depth.map(clip_img)\n",
    "clip_sf = snowfall.map(clip_img)\n",
    "clip_sm = snowmelt.map(clip_img)\n",
    "clip_tp = total_precipitation.map(clip_img)\n",
    "\n",
    "area = fc.geometry()  "
   ]
  },
  {
   "cell_type": "code",
   "execution_count": 10,
   "metadata": {},
   "outputs": [],
   "source": [
    "## surface temp\n",
    "clip = clip_st\n",
    "nimg = clip.toList(clip.size().getInfo()).size().getInfo()\n",
    "\n",
    "## export result                                 \n",
    "for i in range(nimg):\n",
    "    img = ee.Image(clip.toList(nimg).get(i))\n",
    "    date = img.date().format('yyyy_MM_dd_HH').getInfo()\n",
    "\n",
    "    task = ee.batch.Export.image.toDrive(img.toFloat(), \n",
    "                                          description=date,\n",
    "                                          folder='ee_surface_temp',\n",
    "                                          fileNamePrefix= date,\n",
    "                                          region = area,\n",
    "                                          # fileFormat = 'TFRecord',\n",
    "                                          maxPixels = 1.0E13)\n",
    "    task.start()"
   ]
  },
  {
   "cell_type": "code",
   "execution_count": 11,
   "metadata": {},
   "outputs": [],
   "source": [
    "## lake ice\n",
    "clip = clip_lid\n",
    "nimg = clip.toList(clip.size().getInfo()).size().getInfo()\n",
    "\n",
    "## export result                                 \n",
    "for i in range(nimg):\n",
    "    img = ee.Image(clip.toList(nimg).get(i))\n",
    "    date = img.date().format('yyyy_MM_dd_HH').getInfo()\n",
    "\n",
    "    task = ee.batch.Export.image.toDrive(img.toFloat(), \n",
    "                                          description=date,\n",
    "                                          folder='ee_lake_ice_depth',\n",
    "                                          fileNamePrefix= date,\n",
    "                                          region = area,\n",
    "                                          # fileFormat = 'TFRecord',\n",
    "                                          maxPixels = 1.0E13)\n",
    "    task.start()"
   ]
  },
  {
   "cell_type": "code",
   "execution_count": 12,
   "metadata": {},
   "outputs": [],
   "source": [
    "## snow cover\n",
    "clip = clip_sc\n",
    "nimg = clip.toList(clip.size().getInfo()).size().getInfo()\n",
    "\n",
    "## export result                                 \n",
    "for i in range(nimg):\n",
    "    img = ee.Image(clip.toList(nimg).get(i))\n",
    "    date = img.date().format('yyyy_MM_dd_HH').getInfo()\n",
    "\n",
    "    task = ee.batch.Export.image.toDrive(img.toFloat(), \n",
    "                                          description=date,\n",
    "                                          folder='ee_snow_cover',\n",
    "                                          fileNamePrefix= date,\n",
    "                                          region = area,\n",
    "                                          # fileFormat = 'TFRecord',\n",
    "                                          maxPixels = 1.0E13)\n",
    "    task.start()"
   ]
  },
  {
   "cell_type": "code",
   "execution_count": 13,
   "metadata": {},
   "outputs": [],
   "source": [
    "## snow density\n",
    "clip = clip_sdt\n",
    "nimg = clip.toList(clip.size().getInfo()).size().getInfo()\n",
    "\n",
    "## export result                                 \n",
    "for i in range(nimg):\n",
    "    img = ee.Image(clip.toList(nimg).get(i))\n",
    "    date = img.date().format('yyyy_MM_dd_HH').getInfo()\n",
    "\n",
    "    task = ee.batch.Export.image.toDrive(img.toFloat(), \n",
    "                                          description=date,\n",
    "                                          folder='ee_snow_density',\n",
    "                                          fileNamePrefix= date,\n",
    "                                          region = area,\n",
    "                                          # fileFormat = 'TFRecord',\n",
    "                                          maxPixels = 1.0E13)\n",
    "    task.start()"
   ]
  },
  {
   "cell_type": "code",
   "execution_count": 14,
   "metadata": {},
   "outputs": [],
   "source": [
    "## snow depth\n",
    "clip = clip_sdp\n",
    "nimg = clip.toList(clip.size().getInfo()).size().getInfo()\n",
    "\n",
    "## export result                                 \n",
    "for i in range(nimg):\n",
    "    img = ee.Image(clip.toList(nimg).get(i))\n",
    "    date = img.date().format('yyyy_MM_dd_HH').getInfo()\n",
    "\n",
    "    task = ee.batch.Export.image.toDrive(img.toFloat(), \n",
    "                                          description=date,\n",
    "                                          folder='ee_snow_depth',\n",
    "                                          fileNamePrefix= date,\n",
    "                                          region = area,\n",
    "                                          # fileFormat = 'TFRecord',\n",
    "                                          maxPixels = 1.0E13)\n",
    "    task.start()"
   ]
  },
  {
   "cell_type": "code",
   "execution_count": 15,
   "metadata": {},
   "outputs": [],
   "source": [
    "## snowfall\n",
    "clip = clip_sf\n",
    "nimg = clip.toList(clip.size().getInfo()).size().getInfo()\n",
    "\n",
    "## export result                                 \n",
    "for i in range(nimg):\n",
    "    img = ee.Image(clip.toList(nimg).get(i))\n",
    "    date = img.date().format('yyyy_MM_dd_HH').getInfo()\n",
    "\n",
    "    task = ee.batch.Export.image.toDrive(img.toFloat(), \n",
    "                                          description=date,\n",
    "                                          folder='ee_snowfall',\n",
    "                                          fileNamePrefix= date,\n",
    "                                          region = area,\n",
    "                                          # fileFormat = 'TFRecord',\n",
    "                                          maxPixels = 1.0E13)\n",
    "    task.start()"
   ]
  },
  {
   "cell_type": "code",
   "execution_count": 16,
   "metadata": {},
   "outputs": [],
   "source": [
    "## snow melt\n",
    "clip = clip_sm\n",
    "nimg = clip.toList(clip.size().getInfo()).size().getInfo()\n",
    "\n",
    "## export result                                 \n",
    "for i in range(nimg):\n",
    "    img = ee.Image(clip.toList(nimg).get(i))\n",
    "    date = img.date().format('yyyy_MM_dd_HH').getInfo()\n",
    "\n",
    "    task = ee.batch.Export.image.toDrive(img.toFloat(), \n",
    "                                          description=date,\n",
    "                                          folder='ee_snowmelt',\n",
    "                                          fileNamePrefix= date,\n",
    "                                          region = area,\n",
    "                                          # fileFormat = 'TFRecord',\n",
    "                                          maxPixels = 1.0E13)\n",
    "    task.start()"
   ]
  },
  {
   "cell_type": "code",
   "execution_count": 17,
   "metadata": {},
   "outputs": [],
   "source": [
    "## total precipitation\n",
    "clip = clip_tp\n",
    "nimg = clip.toList(clip.size().getInfo()).size().getInfo()\n",
    "\n",
    "## export result                                 \n",
    "for i in range(nimg):\n",
    "    img = ee.Image(clip.toList(nimg).get(i))\n",
    "    date = img.date().format('yyyy_MM_dd_HH').getInfo()\n",
    "\n",
    "    task = ee.batch.Export.image.toDrive(img.toFloat(), \n",
    "                                          description=date,\n",
    "                                          folder='ee_total_precipitation',\n",
    "                                          fileNamePrefix= date,\n",
    "                                          region = area,\n",
    "                                          # fileFormat = 'TFRecord',\n",
    "                                          maxPixels = 1.0E13)\n",
    "    task.start()"
   ]
  }
 ],
 "metadata": {
  "kernelspec": {
   "display_name": "Python 3",
   "language": "python",
   "name": "python3"
  },
  "language_info": {
   "codemirror_mode": {
    "name": "ipython",
    "version": 3
   },
   "file_extension": ".py",
   "mimetype": "text/x-python",
   "name": "python",
   "nbconvert_exporter": "python",
   "pygments_lexer": "ipython3",
   "version": "3.11.2"
  },
  "orig_nbformat": 4
 },
 "nbformat": 4,
 "nbformat_minor": 2
}
