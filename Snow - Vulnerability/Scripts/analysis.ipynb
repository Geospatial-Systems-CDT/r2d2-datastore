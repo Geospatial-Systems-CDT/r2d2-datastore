{
 "cells": [
  {
   "cell_type": "code",
   "execution_count": 17,
   "id": "7cb39aec-c3d4-4320-9189-4619330aac0d",
   "metadata": {
    "tags": []
   },
   "outputs": [],
   "source": [
    "import geojson\n",
    "import leafmap.leafmap as leafmap\n",
    "import xarray as xr\n",
    "import rasterio\n",
    "import geopandas as gpd"
   ]
  },
  {
   "attachments": {},
   "cell_type": "markdown",
   "id": "8cdb3992",
   "metadata": {},
   "source": [
    "## Vector data - critical assets"
   ]
  },
  {
   "cell_type": "code",
   "execution_count": 11,
   "id": "8ab6ff28",
   "metadata": {},
   "outputs": [],
   "source": [
    "data_dir = \"C:/Users/frans/Documents/NCL/R2D2/tests/data/\"\n",
    "## Polygon - NE boundary\n",
    "with open(data_dir+\"north_east_4326.geojson\") as json_file:\n",
    "   north_east_lim = geojson.load(json_file)\n",
    "\n",
    "## Centroids - Hospitals\n",
    "with open(data_dir+\"osm/hospitals_centroids.geojson\") as json_file:\n",
    "   hospitals = geojson.load(json_file)\n",
    "\n",
    "## Centroids - Schools\n",
    "with open(data_dir+\"osm/schools_centroids.geojson\") as json_file:\n",
    "   schools = geojson.load(json_file)\n",
    "\n",
    "## Centroids - Halls\n",
    "with open(data_dir+\"osm/halls_centroids.geojson\") as json_file:\n",
    "   halls = geojson.load(json_file)\n",
    "\n",
    "## Centroids - Sport centres\n",
    "with open(data_dir+\"osm/sports_centre_centroids.geojson\") as json_file:\n",
    "   sport_centres = geojson.load(json_file)\n",
    "\n",
    "## Points - Care homes\n",
    "with open(data_dir+\"osm/care_homes.geojson\") as json_file:\n",
    "   care_homes = geojson.load(json_file)"
   ]
  },
  {
   "cell_type": "code",
   "execution_count": null,
   "id": "92adc10c-cdca-4330-a8d9-ef6832d83b45",
   "metadata": {
    "tags": []
   },
   "outputs": [],
   "source": [
    "m = leafmap.Map(center=(55, -1.9), zoom=7, width=\"800px\")\n",
    "m.add_basemap('CartoDB.DarkMatter')\n",
    "#m.add_basemap(\"Stamen.TonerLite\")\n",
    "m.add_geojson(north_east_lim, layer_name=\"North East\")\n",
    "m"
   ]
  },
  {
   "attachments": {},
   "cell_type": "markdown",
   "id": "98ddd11a",
   "metadata": {},
   "source": [
    "## Raster data - weather"
   ]
  },
  {
   "cell_type": "code",
   "execution_count": 18,
   "id": "bdb3d226",
   "metadata": {},
   "outputs": [],
   "source": [
    "storm_darcy = \"snow_products/stormDarcy/storm_darcy_\"\n",
    "tbfte = \"snow_products/TBFTE/bfte_\"\n",
    "\n",
    "snow_dir = storm_darcy\n"
   ]
  },
  {
   "cell_type": "code",
   "execution_count": 19,
   "id": "b144065c",
   "metadata": {},
   "outputs": [
    {
     "name": "stdout",
     "output_type": "stream",
     "text": [
      "Unexpected exception formatting exception. Falling back to standard exception\n"
     ]
    },
    {
     "name": "stderr",
     "output_type": "stream",
     "text": [
      "Traceback (most recent call last):\n",
      "  File \"rasterio\\_base.pyx\", line 308, in rasterio._base.DatasetBase.__init__\n",
      "  File \"rasterio\\_base.pyx\", line 219, in rasterio._base.open_dataset\n",
      "  File \"rasterio\\_err.pyx\", line 221, in rasterio._err.exc_wrap_pointer\n",
      "rasterio._err.CPLE_OpenFailedError: snow_products/stormDarcy/storm_darcy_era5_snow_cover.tif: No such file or directory\n",
      "\n",
      "During handling of the above exception, another exception occurred:\n",
      "\n",
      "Traceback (most recent call last):\n",
      "  File \"c:\\Users\\frans\\miniconda3\\envs\\geo\\Lib\\site-packages\\IPython\\core\\interactiveshell.py\", line 3460, in run_code\n",
      "    exec(code_obj, self.user_global_ns, self.user_ns)\n",
      "  File \"C:\\Users\\frans\\AppData\\Local\\Temp\\ipykernel_7712\\4097205003.py\", line 2, in <module>\n",
      "    with rasterio.open(snow_dir +\"era5_snow_cover.tif\") as src:\n",
      "         ^^^^^^^^^^^^^^^^^^^^^^^^^^^^^^^^^^^^^^^^^^^^^^\n",
      "  File \"c:\\Users\\frans\\miniconda3\\envs\\geo\\Lib\\site-packages\\rasterio\\env.py\", line 451, in wrapper\n",
      "    return f(*args, **kwds)\n",
      "           ^^^^^^^^^^^^^^^^\n",
      "  File \"c:\\Users\\frans\\miniconda3\\envs\\geo\\Lib\\site-packages\\rasterio\\__init__.py\", line 304, in open\n",
      "    dataset = DatasetReader(path, driver=driver, sharing=sharing, **kwargs)\n",
      "              ^^^^^^^^^^^^^^^^^^^^^^^^^^^^^^^^^^^^^^^^^^^^^^^^^^^^^^^^^^^^^\n",
      "  File \"rasterio\\_base.pyx\", line 310, in rasterio._base.DatasetBase.__init__\n",
      "rasterio.errors.RasterioIOError: snow_products/stormDarcy/storm_darcy_era5_snow_cover.tif: No such file or directory\n",
      "\n",
      "During handling of the above exception, another exception occurred:\n",
      "\n",
      "Traceback (most recent call last):\n",
      "  File \"c:\\Users\\frans\\miniconda3\\envs\\geo\\Lib\\site-packages\\IPython\\core\\interactiveshell.py\", line 2057, in showtraceback\n",
      "    stb = self.InteractiveTB.structured_traceback(\n",
      "          ^^^^^^^^^^^^^^^^^^^^^^^^^^^^^^^^^^^^^^^^\n",
      "  File \"c:\\Users\\frans\\miniconda3\\envs\\geo\\Lib\\site-packages\\IPython\\core\\ultratb.py\", line 1288, in structured_traceback\n",
      "    return FormattedTB.structured_traceback(\n",
      "           ^^^^^^^^^^^^^^^^^^^^^^^^^^^^^^^^^\n",
      "  File \"c:\\Users\\frans\\miniconda3\\envs\\geo\\Lib\\site-packages\\IPython\\core\\ultratb.py\", line 1177, in structured_traceback\n",
      "    return VerboseTB.structured_traceback(\n",
      "           ^^^^^^^^^^^^^^^^^^^^^^^^^^^^^^^\n",
      "  File \"c:\\Users\\frans\\miniconda3\\envs\\geo\\Lib\\site-packages\\IPython\\core\\ultratb.py\", line 1049, in structured_traceback\n",
      "    formatted_exceptions += self.format_exception_as_a_whole(etype, evalue, etb, lines_of_context,\n",
      "                            ^^^^^^^^^^^^^^^^^^^^^^^^^^^^^^^^^^^^^^^^^^^^^^^^^^^^^^^^^^^^^^^^^^^^^^\n",
      "  File \"c:\\Users\\frans\\miniconda3\\envs\\geo\\Lib\\site-packages\\IPython\\core\\ultratb.py\", line 935, in format_exception_as_a_whole\n",
      "    self.get_records(etb, number_of_lines_of_context, tb_offset) if etb else []\n",
      "    ^^^^^^^^^^^^^^^^^^^^^^^^^^^^^^^^^^^^^^^^^^^^^^^^^^^^^^^^^^^^\n",
      "  File \"c:\\Users\\frans\\miniconda3\\envs\\geo\\Lib\\site-packages\\IPython\\core\\ultratb.py\", line 1003, in get_records\n",
      "    lines, first = inspect.getsourcelines(etb.tb_frame)\n",
      "                   ^^^^^^^^^^^^^^^^^^^^^^^^^^^^^^^^^^^^\n",
      "  File \"c:\\Users\\frans\\miniconda3\\envs\\geo\\Lib\\inspect.py\", line 1252, in getsourcelines\n",
      "    lines, lnum = findsource(object)\n",
      "                  ^^^^^^^^^^^^^^^^^^\n",
      "  File \"c:\\Users\\frans\\miniconda3\\envs\\geo\\Lib\\inspect.py\", line 1081, in findsource\n",
      "    raise OSError('could not get source code')\n",
      "OSError: could not get source code\n"
     ]
    }
   ],
   "source": [
    "# Load the snow depth raster\n",
    "with rasterio.open(snow_dir +\"era5_snow_cover.tif\") as src:\n",
    "    snow_cover= src.read(1)\n",
    "    transform = src.transform\n",
    "    crs = src.crs\n",
    "\n",
    "print(crs)\n",
    "print(snow_cover.shape)"
   ]
  },
  {
   "cell_type": "code",
   "execution_count": 8,
   "id": "b6c43e2c",
   "metadata": {},
   "outputs": [],
   "source": [
    "#raster ='bfte_ndsi_snow_cover.tif'\n",
    "darcy_snow_cover = \"snow_products/stormDarcy\"\n",
    "m.add_raster(raster, layer_name='ndsi',)"
   ]
  },
  {
   "cell_type": "code",
   "execution_count": null,
   "id": "608ef21e",
   "metadata": {},
   "outputs": [],
   "source": [
    "#labels = ['Hospitals', 'Schools', 'Residential']\n",
    "#colors = ['#ff0000', '#9900cc', '#006600']\n",
    "labels = ['Hospitals', 'Schools']\n",
    "colors = ['#ff0000', '#9900cc']\n",
    "hover_style = {\"fillOpacity\": 0.7}\n",
    "m.add_geojson(hospitals, layer_name=labels[0], style={'color':colors[0]}, hover_style=hover_style)\n",
    "m.add_geojson(schools, layer_name=labels[1], style={'color':colors[1],},hover_style=hover_style)\n",
    "#m.add_geojson(residential, layer_name=labels[2], style={'color':colors[2],},hover_style=hover_style)\n",
    "m.add_legend(labels = labels, colors=colors)"
   ]
  },
  {
   "cell_type": "code",
   "execution_count": null,
   "id": "08a3e00a",
   "metadata": {},
   "outputs": [],
   "source": [
    "#raster = xr.open_rasterio(\"2018_02_28_20.tif\")\n",
    "raster ='2018_02_28_20.tif'\n",
    "m.add_raster(raster, layer_name='snow_depth',)"
   ]
  },
  {
   "cell_type": "code",
   "execution_count": null,
   "id": "0abb3c93",
   "metadata": {},
   "outputs": [],
   "source": [
    "\n"
   ]
  },
  {
   "attachments": {},
   "cell_type": "markdown",
   "id": "cf1d708c",
   "metadata": {},
   "source": [
    "## Analysis"
   ]
  },
  {
   "cell_type": "code",
   "execution_count": null,
   "id": "65fc893d",
   "metadata": {},
   "outputs": [],
   "source": [
    "# Load the snow depth raster\n",
    "with rasterio.open('2018_02_28_20.tif') as src:\n",
    "    snow_depth = src.read(1)\n",
    "    transform = src.transform\n",
    "    crs = src.crs\n",
    "\n",
    "print(crs)\n",
    "print(snow_depth.shape)\n",
    "\n",
    "# Load the school and hospital polygons\n",
    "schools_gpd = gpd.read_file('C:/Users/frans/Documents/NCL/R2D2/data/osm/school.geojson')\n",
    "hospitals_gpd = gpd.read_file('C:/Users/frans/Documents/NCL/R2D2/data/osm/hospital.geojson')\n",
    "print(schools_gpd.crs)"
   ]
  },
  {
   "cell_type": "code",
   "execution_count": null,
   "id": "30cd1f60",
   "metadata": {},
   "outputs": [],
   "source": [
    "# Reproject the school and hospital polygons to the same CRS as the snow depth raster\n",
    "#schools_gpd = schools_gpd.to_crs(crs)\n",
    "#hospitals_gpd = hospitals_gpd.to_crs(crs)"
   ]
  },
  {
   "cell_type": "code",
   "execution_count": null,
   "id": "eb1d0b53",
   "metadata": {},
   "outputs": [],
   "source": [
    "schools_gpd.head(3)"
   ]
  },
  {
   "cell_type": "code",
   "execution_count": null,
   "id": "9356410e",
   "metadata": {},
   "outputs": [],
   "source": [
    "# Sample the snow depth raster at the centroid of each school and hospital polygon\n",
    "threshold = 0.06\n",
    "for idx, row in hospitals_gpd.iterrows():\n",
    "    point = row.geometry.centroid\n",
    "    col, r = src.index(point.x, point.y)\n",
    "    if col < 0 or col > src.width-1 or r < 0 or r > src.height-1:\n",
    "        print(\"Point is outside the bounds of the raster.\")\n",
    "    else:\n",
    "        value = snow_depth[r, col]\n",
    "        #print(value)\n",
    "        if value > threshold:\n",
    "            #print(\"TRUE\")\n",
    "            print(f\"Hospital {idx} has snow depth {value:.2f}\")\n",
    "            #print(f\"Hospital {row['FID_1']} has snow depth {value:.2f}\")"
   ]
  },
  {
   "cell_type": "code",
   "execution_count": null,
   "id": "84b46ead",
   "metadata": {},
   "outputs": [],
   "source": [
    "for idx, row in schools_gpd.iterrows():\n",
    "    point = row.geometry.centroid\n",
    "    col, r = src.index(point.x, point.y)\n",
    "    if col < 0 or col > src.width-1 or r < 0 or r > src.height-1:\n",
    "        print(\"Point is outside the bounds of the raster.\")\n",
    "    else:\n",
    "        value = snow_depth[r, col]\n",
    "        #print(value)\n",
    "        if value > threshold:\n",
    "            #print(\"TRUE\")\n",
    "            print(f\"School {idx} has snow depth {value:.2f}\")\n",
    "            #print(f\"School {row['FID_1']} has snow depth {value:.2f}\")"
   ]
  }
 ],
 "metadata": {
  "kernelspec": {
   "display_name": "Python 3 (ipykernel)",
   "language": "python",
   "name": "python3"
  },
  "language_info": {
   "codemirror_mode": {
    "name": "ipython",
    "version": 3
   },
   "file_extension": ".py",
   "mimetype": "text/x-python",
   "name": "python",
   "nbconvert_exporter": "python",
   "pygments_lexer": "ipython3",
   "version": "3.11.0"
  }
 },
 "nbformat": 4,
 "nbformat_minor": 5
}
